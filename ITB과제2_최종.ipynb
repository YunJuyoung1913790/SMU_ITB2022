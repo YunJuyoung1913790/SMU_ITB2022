{
  "nbformat": 4,
  "nbformat_minor": 0,
  "metadata": {
    "colab": {
      "provenance": [],
      "toc_visible": true,
      "authorship_tag": "ABX9TyMG4qGbZUhddpgcTovXGFwg",
      "include_colab_link": true
    },
    "kernelspec": {
      "name": "python3",
      "display_name": "Python 3"
    },
    "language_info": {
      "name": "python"
    }
  },
  "cells": [
    {
      "cell_type": "markdown",
      "metadata": {
        "id": "view-in-github",
        "colab_type": "text"
      },
      "source": [
        "<a href=\"https://colab.research.google.com/github/YunJuyoung1913790/SMU_ITB2022/blob/main/ITB%EA%B3%BC%EC%A0%9C2_%EC%B5%9C%EC%A2%85.ipynb\" target=\"_parent\"><img src=\"https://colab.research.google.com/assets/colab-badge.svg\" alt=\"Open In Colab\"/></a>"
      ]
    },
    {
      "cell_type": "markdown",
      "source": [
        "# 데이터 전처리\n",
        "\n",
        "AST 정상 / 비정상 여부를 가리기 위해 엑셀에서 AST값을 범주형 변수로 바꾸어준다.\n",
        "\n",
        "0-40은 Y(정상), 40이상은 N(비정상)으로 처리한다.\n",
        "(파이썬 실행 오류로 이후 Y->0으로 N->1로 재변환)"
      ],
      "metadata": {
        "id": "b3tCESiocs2g"
      }
    },
    {
      "cell_type": "code",
      "execution_count": null,
      "metadata": {
        "colab": {
          "base_uri": "https://localhost:8080/"
        },
        "id": "ER-QLlzCbmGn",
        "outputId": "36ea52ca-1c64-4412-c9bd-c22d06aab774"
      },
      "outputs": [
        {
          "output_type": "stream",
          "name": "stdout",
          "text": [
            "Drive already mounted at /content/drive; to attempt to forcibly remount, call drive.mount(\"/content/drive\", force_remount=True).\n"
          ]
        }
      ],
      "source": [
        "from google.colab import drive\n",
        "drive.mount('/content/drive')"
      ]
    },
    {
      "cell_type": "code",
      "source": [
        "%matplotlib inline\n",
        "import pandas as pd\n",
        "import seaborn as sns           # Seaborn 로딩하기\n",
        "import matplotlib.pyplot as plt # Matplotlib의 pyplot 로딩하기"
      ],
      "metadata": {
        "id": "cGBik5Oab2nL"
      },
      "execution_count": null,
      "outputs": []
    },
    {
      "cell_type": "code",
      "source": [
        "# csv 데이터 가져오기, id를 인덱스로 지정\n",
        "hl = pd.read_csv(\"/content/drive/My Drive/ITB/Colab Notebooks/health.csv\", index_col='가입자일련번호')\n",
        "print(hl.columns)"
      ],
      "metadata": {
        "colab": {
          "base_uri": "https://localhost:8080/"
        },
        "id": "3vnpCmv9b6X2",
        "outputId": "f1b4bff6-6a4e-40c9-99c2-ce0c79bb0bce"
      },
      "execution_count": null,
      "outputs": [
        {
          "output_type": "stream",
          "name": "stdout",
          "text": [
            "Index(['AST', '시도코드', '성별코드', '연령대코드(5세단위)', '신장(5Cm단위)', '체중(5Kg 단위)', '허리둘레',\n",
            "       '시력(좌)', '시력(우)', '청력(좌)', '청력(우)', '수축기혈압', '이완기혈압', '식전혈당(공복혈당)',\n",
            "       '총콜레스테롤', '트리글리세라이드', 'HDL콜레스테롤', 'LDL콜레스테롤', '혈색소', '요단백', '혈청크레아티닌',\n",
            "       '(혈청지오티)ALT', '감마지티피', '흡연상태', '음주여부', '구강검진수검여부', '치아우식증유무', '치석'],\n",
            "      dtype='object')\n"
          ]
        }
      ]
    },
    {
      "cell_type": "markdown",
      "source": [
        "**데이터 전처리**\n",
        "\n",
        "(1) AST, 성별코드, 흡연상태, 음주여부를 문자형->범주형(수치)로 변환\n",
        "\n",
        "(2) 결측지 제거"
      ],
      "metadata": {
        "id": "qdQn-3eiqBnH"
      }
    },
    {
      "cell_type": "code",
      "source": [
        "hl = hl.replace({'AST' : \"Y\"}, 0)\n",
        "hl = hl.replace({'AST' : \"N\"}, 1)\n",
        "hl = hl.replace({'성별코드' : \"M\"}, 0)\n",
        "hl = hl.replace({'성별코드' : \"F\"}, 1)\n",
        "hl = hl.replace({'흡연상태' : \"No\"}, 0)\n",
        "hl = hl.replace({'흡연상태' : \"NotNow\"}, 1)\n",
        "hl = hl.replace({'흡연상태' : \"Yes\"}, 2)\n",
        "hl = hl.replace({'음주여부' : \"No\"}, 0)\n",
        "hl = hl.replace({'음주여부' : \"Yes\"}, 1)\n",
        "hl.dropna(inplace = True)"
      ],
      "metadata": {
        "id": "VaZIIe6co0WV"
      },
      "execution_count": null,
      "outputs": []
    },
    {
      "cell_type": "markdown",
      "source": [
        "null값을 0이나 평균치로 대체 하면 모두 건강한 사람이 되어 표본 값이 한 쪽으로 치우치기 때문에 null값은 제거해준다."
      ],
      "metadata": {
        "id": "BIBx3zCDboz6"
      }
    },
    {
      "cell_type": "code",
      "source": [
        "display(hl.info())      # 1249행의 데이터 - 가입자일련번호는 index이므로 생략됨\n",
        "display(hl.head())      # 처음 5행 확인"
      ],
      "metadata": {
        "colab": {
          "base_uri": "https://localhost:8080/",
          "height": 1000
        },
        "id": "4zmSpG_mpc2t",
        "outputId": "cbb0051a-6f24-4def-c8be-49b68ac28bcb"
      },
      "execution_count": null,
      "outputs": [
        {
          "output_type": "stream",
          "name": "stdout",
          "text": [
            "<class 'pandas.core.frame.DataFrame'>\n",
            "Int64Index: 1249 entries, 7 to 9975\n",
            "Data columns (total 28 columns):\n",
            " #   Column       Non-Null Count  Dtype  \n",
            "---  ------       --------------  -----  \n",
            " 0   AST          1249 non-null   float64\n",
            " 1   시도코드         1249 non-null   int64  \n",
            " 2   성별코드         1249 non-null   int64  \n",
            " 3   연령대코드(5세단위)  1249 non-null   int64  \n",
            " 4   신장(5Cm단위)    1249 non-null   int64  \n",
            " 5   체중(5Kg 단위)   1249 non-null   int64  \n",
            " 6   허리둘레         1249 non-null   float64\n",
            " 7   시력(좌)        1249 non-null   float64\n",
            " 8   시력(우)        1249 non-null   float64\n",
            " 9   청력(좌)        1249 non-null   int64  \n",
            " 10  청력(우)        1249 non-null   int64  \n",
            " 11  수축기혈압        1249 non-null   float64\n",
            " 12  이완기혈압        1249 non-null   float64\n",
            " 13  식전혈당(공복혈당)   1249 non-null   float64\n",
            " 14  총콜레스테롤       1249 non-null   float64\n",
            " 15  트리글리세라이드     1249 non-null   float64\n",
            " 16  HDL콜레스테롤     1249 non-null   float64\n",
            " 17  LDL콜레스테롤     1249 non-null   float64\n",
            " 18  혈색소          1249 non-null   float64\n",
            " 19  요단백          1249 non-null   float64\n",
            " 20  혈청크레아티닌      1249 non-null   float64\n",
            " 21  (혈청지오티)ALT   1249 non-null   float64\n",
            " 22  감마지티피        1249 non-null   float64\n",
            " 23  흡연상태         1249 non-null   float64\n",
            " 24  음주여부         1249 non-null   float64\n",
            " 25  구강검진수검여부     1249 non-null   int64  \n",
            " 26  치아우식증유무      1249 non-null   float64\n",
            " 27  치석           1249 non-null   float64\n",
            "dtypes: float64(20), int64(8)\n",
            "memory usage: 283.0 KB\n"
          ]
        },
        {
          "output_type": "display_data",
          "data": {
            "text/plain": [
              "None"
            ]
          },
          "metadata": {}
        },
        {
          "output_type": "display_data",
          "data": {
            "text/plain": [
              "         AST  시도코드  성별코드  연령대코드(5세단위)  신장(5Cm단위)  체중(5Kg 단위)  허리둘레  시력(좌)  \\\n",
              "가입자일련번호                                                                     \n",
              "7        0.0    44     0            9        165          80  93.0    0.8   \n",
              "17       0.0    30     0           11        160          65  90.0    0.6   \n",
              "22       0.0    41     1           11        155          50  65.9    0.7   \n",
              "28       0.0    11     0           17        155          60  82.0    0.5   \n",
              "48       0.0    26     0           16        165          65  94.0    1.5   \n",
              "\n",
              "         시력(우)  청력(좌)  ...   혈색소  요단백  혈청크레아티닌  (혈청지오티)ALT  감마지티피  흡연상태  음주여부  \\\n",
              "가입자일련번호                ...                                                      \n",
              "7          0.7      1  ...  15.7  1.0      0.7        20.0   35.0   2.0   1.0   \n",
              "17         0.6      1  ...  16.6  1.0      1.0        54.0   24.0   0.0   1.0   \n",
              "22         1.0      1  ...  11.8  1.0      0.8        14.0   12.0   0.0   0.0   \n",
              "28         0.7      1  ...  14.3  1.0      1.4        22.0   29.0   0.0   1.0   \n",
              "48         0.6      2  ...  16.3  1.0      1.0        20.0   43.0   0.0   1.0   \n",
              "\n",
              "         구강검진수검여부  치아우식증유무   치석  \n",
              "가입자일련번호                          \n",
              "7               1      0.0  1.0  \n",
              "17              1      0.0  1.0  \n",
              "22              1      0.0  0.0  \n",
              "28              1      0.0  0.0  \n",
              "48              1      0.0  0.0  \n",
              "\n",
              "[5 rows x 28 columns]"
            ],
            "text/html": [
              "\n",
              "  <div id=\"df-843d7f0a-ff18-4a5e-afaf-8b25e1ee4b07\">\n",
              "    <div class=\"colab-df-container\">\n",
              "      <div>\n",
              "<style scoped>\n",
              "    .dataframe tbody tr th:only-of-type {\n",
              "        vertical-align: middle;\n",
              "    }\n",
              "\n",
              "    .dataframe tbody tr th {\n",
              "        vertical-align: top;\n",
              "    }\n",
              "\n",
              "    .dataframe thead th {\n",
              "        text-align: right;\n",
              "    }\n",
              "</style>\n",
              "<table border=\"1\" class=\"dataframe\">\n",
              "  <thead>\n",
              "    <tr style=\"text-align: right;\">\n",
              "      <th></th>\n",
              "      <th>AST</th>\n",
              "      <th>시도코드</th>\n",
              "      <th>성별코드</th>\n",
              "      <th>연령대코드(5세단위)</th>\n",
              "      <th>신장(5Cm단위)</th>\n",
              "      <th>체중(5Kg 단위)</th>\n",
              "      <th>허리둘레</th>\n",
              "      <th>시력(좌)</th>\n",
              "      <th>시력(우)</th>\n",
              "      <th>청력(좌)</th>\n",
              "      <th>...</th>\n",
              "      <th>혈색소</th>\n",
              "      <th>요단백</th>\n",
              "      <th>혈청크레아티닌</th>\n",
              "      <th>(혈청지오티)ALT</th>\n",
              "      <th>감마지티피</th>\n",
              "      <th>흡연상태</th>\n",
              "      <th>음주여부</th>\n",
              "      <th>구강검진수검여부</th>\n",
              "      <th>치아우식증유무</th>\n",
              "      <th>치석</th>\n",
              "    </tr>\n",
              "    <tr>\n",
              "      <th>가입자일련번호</th>\n",
              "      <th></th>\n",
              "      <th></th>\n",
              "      <th></th>\n",
              "      <th></th>\n",
              "      <th></th>\n",
              "      <th></th>\n",
              "      <th></th>\n",
              "      <th></th>\n",
              "      <th></th>\n",
              "      <th></th>\n",
              "      <th></th>\n",
              "      <th></th>\n",
              "      <th></th>\n",
              "      <th></th>\n",
              "      <th></th>\n",
              "      <th></th>\n",
              "      <th></th>\n",
              "      <th></th>\n",
              "      <th></th>\n",
              "      <th></th>\n",
              "      <th></th>\n",
              "    </tr>\n",
              "  </thead>\n",
              "  <tbody>\n",
              "    <tr>\n",
              "      <th>7</th>\n",
              "      <td>0.0</td>\n",
              "      <td>44</td>\n",
              "      <td>0</td>\n",
              "      <td>9</td>\n",
              "      <td>165</td>\n",
              "      <td>80</td>\n",
              "      <td>93.0</td>\n",
              "      <td>0.8</td>\n",
              "      <td>0.7</td>\n",
              "      <td>1</td>\n",
              "      <td>...</td>\n",
              "      <td>15.7</td>\n",
              "      <td>1.0</td>\n",
              "      <td>0.7</td>\n",
              "      <td>20.0</td>\n",
              "      <td>35.0</td>\n",
              "      <td>2.0</td>\n",
              "      <td>1.0</td>\n",
              "      <td>1</td>\n",
              "      <td>0.0</td>\n",
              "      <td>1.0</td>\n",
              "    </tr>\n",
              "    <tr>\n",
              "      <th>17</th>\n",
              "      <td>0.0</td>\n",
              "      <td>30</td>\n",
              "      <td>0</td>\n",
              "      <td>11</td>\n",
              "      <td>160</td>\n",
              "      <td>65</td>\n",
              "      <td>90.0</td>\n",
              "      <td>0.6</td>\n",
              "      <td>0.6</td>\n",
              "      <td>1</td>\n",
              "      <td>...</td>\n",
              "      <td>16.6</td>\n",
              "      <td>1.0</td>\n",
              "      <td>1.0</td>\n",
              "      <td>54.0</td>\n",
              "      <td>24.0</td>\n",
              "      <td>0.0</td>\n",
              "      <td>1.0</td>\n",
              "      <td>1</td>\n",
              "      <td>0.0</td>\n",
              "      <td>1.0</td>\n",
              "    </tr>\n",
              "    <tr>\n",
              "      <th>22</th>\n",
              "      <td>0.0</td>\n",
              "      <td>41</td>\n",
              "      <td>1</td>\n",
              "      <td>11</td>\n",
              "      <td>155</td>\n",
              "      <td>50</td>\n",
              "      <td>65.9</td>\n",
              "      <td>0.7</td>\n",
              "      <td>1.0</td>\n",
              "      <td>1</td>\n",
              "      <td>...</td>\n",
              "      <td>11.8</td>\n",
              "      <td>1.0</td>\n",
              "      <td>0.8</td>\n",
              "      <td>14.0</td>\n",
              "      <td>12.0</td>\n",
              "      <td>0.0</td>\n",
              "      <td>0.0</td>\n",
              "      <td>1</td>\n",
              "      <td>0.0</td>\n",
              "      <td>0.0</td>\n",
              "    </tr>\n",
              "    <tr>\n",
              "      <th>28</th>\n",
              "      <td>0.0</td>\n",
              "      <td>11</td>\n",
              "      <td>0</td>\n",
              "      <td>17</td>\n",
              "      <td>155</td>\n",
              "      <td>60</td>\n",
              "      <td>82.0</td>\n",
              "      <td>0.5</td>\n",
              "      <td>0.7</td>\n",
              "      <td>1</td>\n",
              "      <td>...</td>\n",
              "      <td>14.3</td>\n",
              "      <td>1.0</td>\n",
              "      <td>1.4</td>\n",
              "      <td>22.0</td>\n",
              "      <td>29.0</td>\n",
              "      <td>0.0</td>\n",
              "      <td>1.0</td>\n",
              "      <td>1</td>\n",
              "      <td>0.0</td>\n",
              "      <td>0.0</td>\n",
              "    </tr>\n",
              "    <tr>\n",
              "      <th>48</th>\n",
              "      <td>0.0</td>\n",
              "      <td>26</td>\n",
              "      <td>0</td>\n",
              "      <td>16</td>\n",
              "      <td>165</td>\n",
              "      <td>65</td>\n",
              "      <td>94.0</td>\n",
              "      <td>1.5</td>\n",
              "      <td>0.6</td>\n",
              "      <td>2</td>\n",
              "      <td>...</td>\n",
              "      <td>16.3</td>\n",
              "      <td>1.0</td>\n",
              "      <td>1.0</td>\n",
              "      <td>20.0</td>\n",
              "      <td>43.0</td>\n",
              "      <td>0.0</td>\n",
              "      <td>1.0</td>\n",
              "      <td>1</td>\n",
              "      <td>0.0</td>\n",
              "      <td>0.0</td>\n",
              "    </tr>\n",
              "  </tbody>\n",
              "</table>\n",
              "<p>5 rows × 28 columns</p>\n",
              "</div>\n",
              "      <button class=\"colab-df-convert\" onclick=\"convertToInteractive('df-843d7f0a-ff18-4a5e-afaf-8b25e1ee4b07')\"\n",
              "              title=\"Convert this dataframe to an interactive table.\"\n",
              "              style=\"display:none;\">\n",
              "        \n",
              "  <svg xmlns=\"http://www.w3.org/2000/svg\" height=\"24px\"viewBox=\"0 0 24 24\"\n",
              "       width=\"24px\">\n",
              "    <path d=\"M0 0h24v24H0V0z\" fill=\"none\"/>\n",
              "    <path d=\"M18.56 5.44l.94 2.06.94-2.06 2.06-.94-2.06-.94-.94-2.06-.94 2.06-2.06.94zm-11 1L8.5 8.5l.94-2.06 2.06-.94-2.06-.94L8.5 2.5l-.94 2.06-2.06.94zm10 10l.94 2.06.94-2.06 2.06-.94-2.06-.94-.94-2.06-.94 2.06-2.06.94z\"/><path d=\"M17.41 7.96l-1.37-1.37c-.4-.4-.92-.59-1.43-.59-.52 0-1.04.2-1.43.59L10.3 9.45l-7.72 7.72c-.78.78-.78 2.05 0 2.83L4 21.41c.39.39.9.59 1.41.59.51 0 1.02-.2 1.41-.59l7.78-7.78 2.81-2.81c.8-.78.8-2.07 0-2.86zM5.41 20L4 18.59l7.72-7.72 1.47 1.35L5.41 20z\"/>\n",
              "  </svg>\n",
              "      </button>\n",
              "      \n",
              "  <style>\n",
              "    .colab-df-container {\n",
              "      display:flex;\n",
              "      flex-wrap:wrap;\n",
              "      gap: 12px;\n",
              "    }\n",
              "\n",
              "    .colab-df-convert {\n",
              "      background-color: #E8F0FE;\n",
              "      border: none;\n",
              "      border-radius: 50%;\n",
              "      cursor: pointer;\n",
              "      display: none;\n",
              "      fill: #1967D2;\n",
              "      height: 32px;\n",
              "      padding: 0 0 0 0;\n",
              "      width: 32px;\n",
              "    }\n",
              "\n",
              "    .colab-df-convert:hover {\n",
              "      background-color: #E2EBFA;\n",
              "      box-shadow: 0px 1px 2px rgba(60, 64, 67, 0.3), 0px 1px 3px 1px rgba(60, 64, 67, 0.15);\n",
              "      fill: #174EA6;\n",
              "    }\n",
              "\n",
              "    [theme=dark] .colab-df-convert {\n",
              "      background-color: #3B4455;\n",
              "      fill: #D2E3FC;\n",
              "    }\n",
              "\n",
              "    [theme=dark] .colab-df-convert:hover {\n",
              "      background-color: #434B5C;\n",
              "      box-shadow: 0px 1px 3px 1px rgba(0, 0, 0, 0.15);\n",
              "      filter: drop-shadow(0px 1px 2px rgba(0, 0, 0, 0.3));\n",
              "      fill: #FFFFFF;\n",
              "    }\n",
              "  </style>\n",
              "\n",
              "      <script>\n",
              "        const buttonEl =\n",
              "          document.querySelector('#df-843d7f0a-ff18-4a5e-afaf-8b25e1ee4b07 button.colab-df-convert');\n",
              "        buttonEl.style.display =\n",
              "          google.colab.kernel.accessAllowed ? 'block' : 'none';\n",
              "\n",
              "        async function convertToInteractive(key) {\n",
              "          const element = document.querySelector('#df-843d7f0a-ff18-4a5e-afaf-8b25e1ee4b07');\n",
              "          const dataTable =\n",
              "            await google.colab.kernel.invokeFunction('convertToInteractive',\n",
              "                                                     [key], {});\n",
              "          if (!dataTable) return;\n",
              "\n",
              "          const docLinkHtml = 'Like what you see? Visit the ' +\n",
              "            '<a target=\"_blank\" href=https://colab.research.google.com/notebooks/data_table.ipynb>data table notebook</a>'\n",
              "            + ' to learn more about interactive tables.';\n",
              "          element.innerHTML = '';\n",
              "          dataTable['output_type'] = 'display_data';\n",
              "          await google.colab.output.renderOutput(dataTable, element);\n",
              "          const docLink = document.createElement('div');\n",
              "          docLink.innerHTML = docLinkHtml;\n",
              "          element.appendChild(docLink);\n",
              "        }\n",
              "      </script>\n",
              "    </div>\n",
              "  </div>\n",
              "  "
            ]
          },
          "metadata": {}
        }
      ]
    },
    {
      "cell_type": "code",
      "source": [
        "print(hl['AST'].value_counts())\n",
        "\n",
        "hl['AST'].value_counts().plot.bar()\n",
        "plt.ylabel('count')\n",
        "plt.title('AST')\n",
        "plt.show()"
      ],
      "metadata": {
        "colab": {
          "base_uri": "https://localhost:8080/",
          "height": 339
        },
        "id": "MLsLBjLMhyo9",
        "outputId": "26e10067-9ebd-4f37-ee84-1b3b9acc589f"
      },
      "execution_count": null,
      "outputs": [
        {
          "output_type": "stream",
          "name": "stdout",
          "text": [
            "0.0    1142\n",
            "1.0     107\n",
            "Name: AST, dtype: int64\n"
          ]
        },
        {
          "output_type": "display_data",
          "data": {
            "text/plain": [
              "<Figure size 432x288 with 1 Axes>"
            ],
            "image/png": "[encoded data removed]"
          },
          "metadata": {
            "needs_background": "light"
          }
        }
      ]
    },
    {
      "cell_type": "code",
      "source": [
        "!pip install --upgrade joblib==1.1.0"
      ],
      "metadata": {
        "colab": {
          "base_uri": "https://localhost:8080/"
        },
        "id": "ltsw2odrid06",
        "outputId": "c62d56d7-8482-4164-d87e-dd2f711cd9c8"
      },
      "execution_count": null,
      "outputs": [
        {
          "output_type": "stream",
          "name": "stdout",
          "text": [
            "Looking in indexes: https://pypi.org/simple, https://us-python.pkg.dev/colab-wheels/public/simple/\n",
            "Requirement already satisfied: joblib==1.1.0 in /usr/local/lib/python3.7/dist-packages (1.1.0)\n"
          ]
        }
      ]
    },
    {
      "cell_type": "code",
      "source": [
        "pip install mglearn"
      ],
      "metadata": {
        "colab": {
          "base_uri": "https://localhost:8080/"
        },
        "id": "H6HbfdI1i6fg",
        "outputId": "3740822d-b3f2-418e-9666-92a35cf919c1"
      },
      "execution_count": null,
      "outputs": [
        {
          "output_type": "stream",
          "name": "stdout",
          "text": [
            "Looking in indexes: https://pypi.org/simple, https://us-python.pkg.dev/colab-wheels/public/simple/\n",
            "Requirement already satisfied: mglearn in /usr/local/lib/python3.7/dist-packages (0.1.9)\n",
            "Requirement already satisfied: pillow in /usr/local/lib/python3.7/dist-packages (from mglearn) (7.1.2)\n",
            "Requirement already satisfied: joblib in /usr/local/lib/python3.7/dist-packages (from mglearn) (1.1.0)\n",
            "Requirement already satisfied: numpy in /usr/local/lib/python3.7/dist-packages (from mglearn) (1.21.6)\n",
            "Requirement already satisfied: cycler in /usr/local/lib/python3.7/dist-packages (from mglearn) (0.11.0)\n",
            "Requirement already satisfied: matplotlib in /usr/local/lib/python3.7/dist-packages (from mglearn) (3.2.2)\n",
            "Requirement already satisfied: scikit-learn in /usr/local/lib/python3.7/dist-packages (from mglearn) (1.0.2)\n",
            "Requirement already satisfied: pandas in /usr/local/lib/python3.7/dist-packages (from mglearn) (1.3.5)\n",
            "Requirement already satisfied: imageio in /usr/local/lib/python3.7/dist-packages (from mglearn) (2.9.0)\n",
            "Requirement already satisfied: python-dateutil>=2.1 in /usr/local/lib/python3.7/dist-packages (from matplotlib->mglearn) (2.8.2)\n",
            "Requirement already satisfied: pyparsing!=2.0.4,!=2.1.2,!=2.1.6,>=2.0.1 in /usr/local/lib/python3.7/dist-packages (from matplotlib->mglearn) (3.0.9)\n",
            "Requirement already satisfied: kiwisolver>=1.0.1 in /usr/local/lib/python3.7/dist-packages (from matplotlib->mglearn) (1.4.4)\n",
            "Requirement already satisfied: typing-extensions in /usr/local/lib/python3.7/dist-packages (from kiwisolver>=1.0.1->matplotlib->mglearn) (4.1.1)\n",
            "Requirement already satisfied: six>=1.5 in /usr/local/lib/python3.7/dist-packages (from python-dateutil>=2.1->matplotlib->mglearn) (1.15.0)\n",
            "Requirement already satisfied: pytz>=2017.3 in /usr/local/lib/python3.7/dist-packages (from pandas->mglearn) (2022.6)\n",
            "Requirement already satisfied: scipy>=1.1.0 in /usr/local/lib/python3.7/dist-packages (from scikit-learn->mglearn) (1.7.3)\n",
            "Requirement already satisfied: threadpoolctl>=2.0.0 in /usr/local/lib/python3.7/dist-packages (from scikit-learn->mglearn) (3.1.0)\n"
          ]
        }
      ]
    },
    {
      "cell_type": "code",
      "source": [
        "import mglearn"
      ],
      "metadata": {
        "id": "N423tLotigGq"
      },
      "execution_count": null,
      "outputs": []
    },
    {
      "cell_type": "markdown",
      "source": [
        "# 분류모델"
      ],
      "metadata": {
        "id": "pgo_T0txjQhZ"
      }
    },
    {
      "cell_type": "markdown",
      "source": [
        "## 1.DecisionTreeClassifier(단일의사결정모델)"
      ],
      "metadata": {
        "id": "CgiLK3bGs0tI"
      }
    },
    {
      "cell_type": "code",
      "source": [
        "from sklearn.tree import DecisionTreeClassifier\n",
        "from sklearn.model_selection import train_test_split\n",
        "\n",
        "X = hl.iloc[:, 1:]  \n",
        "y = hl.iloc[:, 0]   # target 변수 AST\n",
        "\n",
        "# 데이터셋을 학습(train)과 테스트(test) 세트로 분할\n",
        "# random_state : random 으로 분할시 사용되는 난수 seed 숫자\n",
        "#X_train, X_test, y_train, y_test = train_test_split(X, y, test_size = 0.25, stratify=y, random_state=42)\n",
        "\n",
        "X_train, X_test, y_train, y_test = train_test_split(X, y, test_size = 0.25, random_state=42)\n",
        "\n",
        "tree = DecisionTreeClassifier(random_state=0)  \n",
        "tree.fit(X_train, y_train)\n",
        "print(\"학습용 데이터 정확도: {:.3f}\".format(tree.score(X_train, y_train)))\n",
        "print(\"시험용 데이터 정확도: {:.3f}\".format(tree.score(X_test, y_test)))"
      ],
      "metadata": {
        "colab": {
          "base_uri": "https://localhost:8080/"
        },
        "id": "PvsQ325RrsLd",
        "outputId": "2230cd3c-01cc-498a-bdbb-05405748399d"
      },
      "execution_count": null,
      "outputs": [
        {
          "output_type": "stream",
          "name": "stdout",
          "text": [
            "학습용 데이터 정확도: 1.000\n",
            "시험용 데이터 정확도: 0.911\n"
          ]
        }
      ]
    },
    {
      "cell_type": "code",
      "source": [
        "# 의사결정나무의 깊이를 3으로 제한하면 시험용 데이터에 대한 성능이 향상됨 (과적합을 줄임)\n",
        "tree = DecisionTreeClassifier(max_depth=3, random_state=0)\n",
        "tree.fit(X_train, y_train)\n",
        "\n",
        "print(\"학습용 데이터 정확도: {:.3f}\".format(tree.score(X_train, y_train)))\n",
        "print(\"시험용 데이터 정확도: {:.3f}\".format(tree.score(X_test, y_test)))"
      ],
      "metadata": {
        "colab": {
          "base_uri": "https://localhost:8080/"
        },
        "id": "GzgDmmDmjSYo",
        "outputId": "5c8e2de6-415a-42b6-8038-acb06664c1f3"
      },
      "execution_count": null,
      "outputs": [
        {
          "output_type": "stream",
          "name": "stdout",
          "text": [
            "학습용 데이터 정확도: 0.953\n",
            "시험용 데이터 정확도: 0.927\n"
          ]
        }
      ]
    },
    {
      "cell_type": "code",
      "source": [
        "#graphviz 라이브러리를 이용하여 의사결정나무 그리기 \n",
        "from sklearn.tree import export_graphviz\n",
        "import graphviz\n",
        "\n",
        "# filled = True: 색상의 진하기로 클래스를 나타냄, impurity: 불순도 계산값 보여주기 옵션\n",
        "export_graphviz(tree, out_file=\"tree.dot\", class_names=[ \"정상\", \"비정상\"],\n",
        "                feature_names=hl.columns[1:], impurity=False, filled=True)\n",
        "\n",
        "with open(\"tree.dot\") as f:\n",
        "    dot_graph = f.read()\n",
        "\n",
        "display(graphviz.Source(dot_graph))"
      ],
      "metadata": {
        "colab": {
          "base_uri": "https://localhost:8080/",
          "height": 538
        },
        "id": "sw3kWUGms79m",
        "outputId": "40748a01-45ac-439e-9981-bfea9ee49b3e"
      },
      "execution_count": null,
      "outputs": [
        {
          "output_type": "display_data",
          "data": {
            "text/plain": [
              "<graphviz.files.Source at 0x7fa4f2113a10>"
            ],
            "image/svg+xml": "<?xml version=\"1.0\" encoding=\"UTF-8\" standalone=\"no\"?>\n<!DOCTYPE svg PUBLIC \"-//W3C//DTD SVG 1.1//EN\"\n \"http://www.w3.org/Graphics/SVG/1.1/DTD/svg11.dtd\">\n<!-- Generated by graphviz version 2.40.1 (20161225.0304)\n -->\n<!-- Title: Tree Pages: 1 -->\n<svg width=\"814pt\" height=\"373pt\"\n viewBox=\"0.00 0.00 813.50 373.00\" xmlns=\"http://www.w3.org/2000/svg\" xmlns:xlink=\"http://www.w3.org/1999/xlink\">\n<g id=\"graph0\" class=\"graph\" transform=\"scale(1 1) rotate(0) translate(4 369)\">\n<title>Tree</title>\n<polygon fill=\"#ffffff\" stroke=\"transparent\" points=\"-4,4 -4,-369 809.5,-369 809.5,4 -4,4\"/>\n<!-- 0 -->\n<g id=\"node1\" class=\"node\">\n<title>0</title>\n<polygon fill=\"#e78d4c\" stroke=\"#000000\" points=\"517,-365 345,-365 345,-297 517,-297 517,-365\"/>\n<text text-anchor=\"middle\" x=\"431\" y=\"-349.8\" font-family=\"Helvetica,sans-Serif\" font-size=\"14.00\" fill=\"#000000\">(혈청지오티)ALT &lt;= 59.5</text>\n<text text-anchor=\"middle\" x=\"431\" y=\"-334.8\" font-family=\"Helvetica,sans-Serif\" font-size=\"14.00\" fill=\"#000000\">samples = 936</text>\n<text text-anchor=\"middle\" x=\"431\" y=\"-319.8\" font-family=\"Helvetica,sans-Serif\" font-size=\"14.00\" fill=\"#000000\">value = [856, 80]</text>\n<text text-anchor=\"middle\" x=\"431\" y=\"-304.8\" font-family=\"Helvetica,sans-Serif\" font-size=\"14.00\" fill=\"#000000\">class = 정상</text>\n</g>\n<!-- 1 -->\n<g id=\"node2\" class=\"node\">\n<title>1</title>\n<polygon fill=\"#e68743\" stroke=\"#000000\" points=\"426,-261 254,-261 254,-193 426,-193 426,-261\"/>\n<text text-anchor=\"middle\" x=\"340\" y=\"-245.8\" font-family=\"Helvetica,sans-Serif\" font-size=\"14.00\" fill=\"#000000\">(혈청지오티)ALT &lt;= 33.5</text>\n<text text-anchor=\"middle\" x=\"340\" y=\"-230.8\" font-family=\"Helvetica,sans-Serif\" font-size=\"14.00\" fill=\"#000000\">samples = 891</text>\n<text text-anchor=\"middle\" x=\"340\" y=\"-215.8\" font-family=\"Helvetica,sans-Serif\" font-size=\"14.00\" fill=\"#000000\">value = [849, 42]</text>\n<text text-anchor=\"middle\" x=\"340\" y=\"-200.8\" font-family=\"Helvetica,sans-Serif\" font-size=\"14.00\" fill=\"#000000\">class = 정상</text>\n</g>\n<!-- 0&#45;&gt;1 -->\n<g id=\"edge1\" class=\"edge\">\n<title>0&#45;&gt;1</title>\n<path fill=\"none\" stroke=\"#000000\" d=\"M401.2032,-296.9465C393.347,-287.968 384.7788,-278.1758 376.6087,-268.8385\"/>\n<polygon fill=\"#000000\" stroke=\"#000000\" points=\"379.0829,-266.351 369.8637,-261.13 373.8148,-270.9606 379.0829,-266.351\"/>\n<text text-anchor=\"middle\" x=\"368.2008\" y=\"-282.3746\" font-family=\"Helvetica,sans-Serif\" font-size=\"14.00\" fill=\"#000000\">True</text>\n</g>\n<!-- 8 -->\n<g id=\"node9\" class=\"node\">\n<title>8</title>\n<polygon fill=\"#5dafea\" stroke=\"#000000\" points=\"602,-261 444,-261 444,-193 602,-193 602,-261\"/>\n<text text-anchor=\"middle\" x=\"523\" y=\"-245.8\" font-family=\"Helvetica,sans-Serif\" font-size=\"14.00\" fill=\"#000000\">총콜레스테롤 &lt;= 137.5</text>\n<text text-anchor=\"middle\" x=\"523\" y=\"-230.8\" font-family=\"Helvetica,sans-Serif\" font-size=\"14.00\" fill=\"#000000\">samples = 45</text>\n<text text-anchor=\"middle\" x=\"523\" y=\"-215.8\" font-family=\"Helvetica,sans-Serif\" font-size=\"14.00\" fill=\"#000000\">value = [7, 38]</text>\n<text text-anchor=\"middle\" x=\"523\" y=\"-200.8\" font-family=\"Helvetica,sans-Serif\" font-size=\"14.00\" fill=\"#000000\">class = 비정상</text>\n</g>\n<!-- 0&#45;&gt;8 -->\n<g id=\"edge8\" class=\"edge\">\n<title>0&#45;&gt;8</title>\n<path fill=\"none\" stroke=\"#000000\" d=\"M461.1242,-296.9465C469.0668,-287.968 477.7291,-278.1758 485.989,-268.8385\"/>\n<polygon fill=\"#000000\" stroke=\"#000000\" points=\"488.8038,-270.939 492.8081,-261.13 483.5608,-266.301 488.8038,-270.939\"/>\n<text text-anchor=\"middle\" x=\"494.3358\" y=\"-282.3833\" font-family=\"Helvetica,sans-Serif\" font-size=\"14.00\" fill=\"#000000\">False</text>\n</g>\n<!-- 2 -->\n<g id=\"node3\" class=\"node\">\n<title>2</title>\n<polygon fill=\"#e5833c\" stroke=\"#000000\" points=\"249.5,-157 104.5,-157 104.5,-89 249.5,-89 249.5,-157\"/>\n<text text-anchor=\"middle\" x=\"177\" y=\"-141.8\" font-family=\"Helvetica,sans-Serif\" font-size=\"14.00\" fill=\"#000000\">감마지티피 &lt;= 216.0</text>\n<text text-anchor=\"middle\" x=\"177\" y=\"-126.8\" font-family=\"Helvetica,sans-Serif\" font-size=\"14.00\" fill=\"#000000\">samples = 744</text>\n<text text-anchor=\"middle\" x=\"177\" y=\"-111.8\" font-family=\"Helvetica,sans-Serif\" font-size=\"14.00\" fill=\"#000000\">value = [734, 10]</text>\n<text text-anchor=\"middle\" x=\"177\" y=\"-96.8\" font-family=\"Helvetica,sans-Serif\" font-size=\"14.00\" fill=\"#000000\">class = 정상</text>\n</g>\n<!-- 1&#45;&gt;2 -->\n<g id=\"edge2\" class=\"edge\">\n<title>1&#45;&gt;2</title>\n<path fill=\"none\" stroke=\"#000000\" d=\"M286.6277,-192.9465C271.4298,-183.2497 254.7445,-172.6039 239.0763,-162.6069\"/>\n<polygon fill=\"#000000\" stroke=\"#000000\" points=\"240.805,-159.5582 230.4922,-157.13 237.0398,-165.4594 240.805,-159.5582\"/>\n</g>\n<!-- 5 -->\n<g id=\"node6\" class=\"node\">\n<title>5</title>\n<polygon fill=\"#eca470\" stroke=\"#000000\" points=\"430,-157 268,-157 268,-89 430,-89 430,-157\"/>\n<text text-anchor=\"middle\" x=\"349\" y=\"-141.8\" font-family=\"Helvetica,sans-Serif\" font-size=\"14.00\" fill=\"#000000\">체중(5Kg 단위) &lt;= 62.5</text>\n<text text-anchor=\"middle\" x=\"349\" y=\"-126.8\" font-family=\"Helvetica,sans-Serif\" font-size=\"14.00\" fill=\"#000000\">samples = 147</text>\n<text text-anchor=\"middle\" x=\"349\" y=\"-111.8\" font-family=\"Helvetica,sans-Serif\" font-size=\"14.00\" fill=\"#000000\">value = [115, 32]</text>\n<text text-anchor=\"middle\" x=\"349\" y=\"-96.8\" font-family=\"Helvetica,sans-Serif\" font-size=\"14.00\" fill=\"#000000\">class = 정상</text>\n</g>\n<!-- 1&#45;&gt;5 -->\n<g id=\"edge5\" class=\"edge\">\n<title>1&#45;&gt;5</title>\n<path fill=\"none\" stroke=\"#000000\" d=\"M342.9469,-192.9465C343.654,-184.776 344.4194,-175.9318 345.1603,-167.3697\"/>\n<polygon fill=\"#000000\" stroke=\"#000000\" points=\"348.6712,-167.3945 346.0464,-157.13 341.6972,-166.791 348.6712,-167.3945\"/>\n</g>\n<!-- 3 -->\n<g id=\"node4\" class=\"node\">\n<title>3</title>\n<polygon fill=\"#e5833b\" stroke=\"#000000\" points=\"116,-53 0,-53 0,0 116,0 116,-53\"/>\n<text text-anchor=\"middle\" x=\"58\" y=\"-37.8\" font-family=\"Helvetica,sans-Serif\" font-size=\"14.00\" fill=\"#000000\">samples = 743</text>\n<text text-anchor=\"middle\" x=\"58\" y=\"-22.8\" font-family=\"Helvetica,sans-Serif\" font-size=\"14.00\" fill=\"#000000\">value = [734, 9]</text>\n<text text-anchor=\"middle\" x=\"58\" y=\"-7.8\" font-family=\"Helvetica,sans-Serif\" font-size=\"14.00\" fill=\"#000000\">class = 정상</text>\n</g>\n<!-- 2&#45;&gt;3 -->\n<g id=\"edge3\" class=\"edge\">\n<title>2&#45;&gt;3</title>\n<path fill=\"none\" stroke=\"#000000\" d=\"M135.0451,-88.9777C123.3014,-79.4545 110.5562,-69.1191 98.876,-59.6473\"/>\n<polygon fill=\"#000000\" stroke=\"#000000\" points=\"100.9568,-56.8286 90.9852,-53.2485 96.5478,-62.2656 100.9568,-56.8286\"/>\n</g>\n<!-- 4 -->\n<g id=\"node5\" class=\"node\">\n<title>4</title>\n<polygon fill=\"#399de5\" stroke=\"#000000\" points=\"241.5,-53 134.5,-53 134.5,0 241.5,0 241.5,-53\"/>\n<text text-anchor=\"middle\" x=\"188\" y=\"-37.8\" font-family=\"Helvetica,sans-Serif\" font-size=\"14.00\" fill=\"#000000\">samples = 1</text>\n<text text-anchor=\"middle\" x=\"188\" y=\"-22.8\" font-family=\"Helvetica,sans-Serif\" font-size=\"14.00\" fill=\"#000000\">value = [0, 1]</text>\n<text text-anchor=\"middle\" x=\"188\" y=\"-7.8\" font-family=\"Helvetica,sans-Serif\" font-size=\"14.00\" fill=\"#000000\">class = 비정상</text>\n</g>\n<!-- 2&#45;&gt;4 -->\n<g id=\"edge4\" class=\"edge\">\n<title>2&#45;&gt;4</title>\n<path fill=\"none\" stroke=\"#000000\" d=\"M180.8782,-88.9777C181.828,-80.6449 182.8488,-71.6903 183.8124,-63.2364\"/>\n<polygon fill=\"#000000\" stroke=\"#000000\" points=\"187.2958,-63.5806 184.951,-53.2485 180.3408,-62.7877 187.2958,-63.5806\"/>\n</g>\n<!-- 6 -->\n<g id=\"node7\" class=\"node\">\n<title>6</title>\n<polygon fill=\"#f3f9fd\" stroke=\"#000000\" points=\"397,-53 281,-53 281,0 397,0 397,-53\"/>\n<text text-anchor=\"middle\" x=\"339\" y=\"-37.8\" font-family=\"Helvetica,sans-Serif\" font-size=\"14.00\" fill=\"#000000\">samples = 33</text>\n<text text-anchor=\"middle\" x=\"339\" y=\"-22.8\" font-family=\"Helvetica,sans-Serif\" font-size=\"14.00\" fill=\"#000000\">value = [16, 17]</text>\n<text text-anchor=\"middle\" x=\"339\" y=\"-7.8\" font-family=\"Helvetica,sans-Serif\" font-size=\"14.00\" fill=\"#000000\">class = 비정상</text>\n</g>\n<!-- 5&#45;&gt;6 -->\n<g id=\"edge6\" class=\"edge\">\n<title>5&#45;&gt;6</title>\n<path fill=\"none\" stroke=\"#000000\" d=\"M345.4744,-88.9777C344.6109,-80.6449 343.6829,-71.6903 342.8069,-63.2364\"/>\n<polygon fill=\"#000000\" stroke=\"#000000\" points=\"346.2841,-62.8344 341.7719,-53.2485 339.3213,-63.556 346.2841,-62.8344\"/>\n</g>\n<!-- 7 -->\n<g id=\"node8\" class=\"node\">\n<title>7</title>\n<polygon fill=\"#e99457\" stroke=\"#000000\" points=\"531,-53 415,-53 415,0 531,0 531,-53\"/>\n<text text-anchor=\"middle\" x=\"473\" y=\"-37.8\" font-family=\"Helvetica,sans-Serif\" font-size=\"14.00\" fill=\"#000000\">samples = 114</text>\n<text text-anchor=\"middle\" x=\"473\" y=\"-22.8\" font-family=\"Helvetica,sans-Serif\" font-size=\"14.00\" fill=\"#000000\">value = [99, 15]</text>\n<text text-anchor=\"middle\" x=\"473\" y=\"-7.8\" font-family=\"Helvetica,sans-Serif\" font-size=\"14.00\" fill=\"#000000\">class = 정상</text>\n</g>\n<!-- 5&#45;&gt;7 -->\n<g id=\"edge7\" class=\"edge\">\n<title>5&#45;&gt;7</title>\n<path fill=\"none\" stroke=\"#000000\" d=\"M392.7178,-88.9777C404.9549,-79.4545 418.2355,-69.1191 430.4066,-59.6473\"/>\n<polygon fill=\"#000000\" stroke=\"#000000\" points=\"432.8866,-62.1523 438.6289,-53.2485 428.5875,-56.628 432.8866,-62.1523\"/>\n</g>\n<!-- 9 -->\n<g id=\"node10\" class=\"node\">\n<title>9</title>\n<polygon fill=\"#e58139\" stroke=\"#000000\" points=\"564.5,-149.5 465.5,-149.5 465.5,-96.5 564.5,-96.5 564.5,-149.5\"/>\n<text text-anchor=\"middle\" x=\"515\" y=\"-134.3\" font-family=\"Helvetica,sans-Serif\" font-size=\"14.00\" fill=\"#000000\">samples = 3</text>\n<text text-anchor=\"middle\" x=\"515\" y=\"-119.3\" font-family=\"Helvetica,sans-Serif\" font-size=\"14.00\" fill=\"#000000\">value = [3, 0]</text>\n<text text-anchor=\"middle\" x=\"515\" y=\"-104.3\" font-family=\"Helvetica,sans-Serif\" font-size=\"14.00\" fill=\"#000000\">class = 정상</text>\n</g>\n<!-- 8&#45;&gt;9 -->\n<g id=\"edge9\" class=\"edge\">\n<title>8&#45;&gt;9</title>\n<path fill=\"none\" stroke=\"#000000\" d=\"M520.3805,-192.9465C519.5586,-182.2621 518.6481,-170.4254 517.8134,-159.5742\"/>\n<polygon fill=\"#000000\" stroke=\"#000000\" points=\"521.2985,-159.2442 517.0417,-149.5422 514.3191,-159.7812 521.2985,-159.2442\"/>\n</g>\n<!-- 10 -->\n<g id=\"node11\" class=\"node\">\n<title>10</title>\n<polygon fill=\"#4ea7e8\" stroke=\"#000000\" points=\"719.5,-157 582.5,-157 582.5,-89 719.5,-89 719.5,-157\"/>\n<text text-anchor=\"middle\" x=\"651\" y=\"-141.8\" font-family=\"Helvetica,sans-Serif\" font-size=\"14.00\" fill=\"#000000\">감마지티피 &lt;= 52.0</text>\n<text text-anchor=\"middle\" x=\"651\" y=\"-126.8\" font-family=\"Helvetica,sans-Serif\" font-size=\"14.00\" fill=\"#000000\">samples = 42</text>\n<text text-anchor=\"middle\" x=\"651\" y=\"-111.8\" font-family=\"Helvetica,sans-Serif\" font-size=\"14.00\" fill=\"#000000\">value = [4, 38]</text>\n<text text-anchor=\"middle\" x=\"651\" y=\"-96.8\" font-family=\"Helvetica,sans-Serif\" font-size=\"14.00\" fill=\"#000000\">class = 비정상</text>\n</g>\n<!-- 8&#45;&gt;10 -->\n<g id=\"edge10\" class=\"edge\">\n<title>8&#45;&gt;10</title>\n<path fill=\"none\" stroke=\"#000000\" d=\"M564.912,-192.9465C576.515,-183.519 589.2221,-173.1946 601.2259,-163.4415\"/>\n<polygon fill=\"#000000\" stroke=\"#000000\" points=\"603.4398,-166.1524 608.9939,-157.13 599.0256,-160.7196 603.4398,-166.1524\"/>\n</g>\n<!-- 11 -->\n<g id=\"node12\" class=\"node\">\n<title>11</title>\n<polygon fill=\"#88c4ef\" stroke=\"#000000\" points=\"680.5,-53 573.5,-53 573.5,0 680.5,0 680.5,-53\"/>\n<text text-anchor=\"middle\" x=\"627\" y=\"-37.8\" font-family=\"Helvetica,sans-Serif\" font-size=\"14.00\" fill=\"#000000\">samples = 14</text>\n<text text-anchor=\"middle\" x=\"627\" y=\"-22.8\" font-family=\"Helvetica,sans-Serif\" font-size=\"14.00\" fill=\"#000000\">value = [4, 10]</text>\n<text text-anchor=\"middle\" x=\"627\" y=\"-7.8\" font-family=\"Helvetica,sans-Serif\" font-size=\"14.00\" fill=\"#000000\">class = 비정상</text>\n</g>\n<!-- 10&#45;&gt;11 -->\n<g id=\"edge11\" class=\"edge\">\n<title>10&#45;&gt;11</title>\n<path fill=\"none\" stroke=\"#000000\" d=\"M642.5385,-88.9777C640.4433,-80.5533 638.1901,-71.4934 636.0673,-62.9579\"/>\n<polygon fill=\"#000000\" stroke=\"#000000\" points=\"639.4626,-62.1081 633.6525,-53.2485 632.6695,-63.7976 639.4626,-62.1081\"/>\n</g>\n<!-- 12 -->\n<g id=\"node13\" class=\"node\">\n<title>12</title>\n<polygon fill=\"#399de5\" stroke=\"#000000\" points=\"805.5,-53 698.5,-53 698.5,0 805.5,0 805.5,-53\"/>\n<text text-anchor=\"middle\" x=\"752\" y=\"-37.8\" font-family=\"Helvetica,sans-Serif\" font-size=\"14.00\" fill=\"#000000\">samples = 28</text>\n<text text-anchor=\"middle\" x=\"752\" y=\"-22.8\" font-family=\"Helvetica,sans-Serif\" font-size=\"14.00\" fill=\"#000000\">value = [0, 28]</text>\n<text text-anchor=\"middle\" x=\"752\" y=\"-7.8\" font-family=\"Helvetica,sans-Serif\" font-size=\"14.00\" fill=\"#000000\">class = 비정상</text>\n</g>\n<!-- 10&#45;&gt;12 -->\n<g id=\"edge12\" class=\"edge\">\n<title>10&#45;&gt;12</title>\n<path fill=\"none\" stroke=\"#000000\" d=\"M686.6088,-88.9777C696.3845,-79.6376 706.9777,-69.5163 716.734,-60.1947\"/>\n<polygon fill=\"#000000\" stroke=\"#000000\" points=\"719.1917,-62.6873 724.0042,-53.2485 714.356,-57.6261 719.1917,-62.6873\"/>\n</g>\n</g>\n</svg>\n"
          },
          "metadata": {}
        }
      ]
    },
    {
      "cell_type": "markdown",
      "source": [
        "### 주요변수 찾기"
      ],
      "metadata": {
        "id": "KeBRmSKv-8n8"
      }
    },
    {
      "cell_type": "code",
      "source": [
        "result = tree.feature_importances_\n",
        "print(\"변수의 중요도:\\n\", result)"
      ],
      "metadata": {
        "colab": {
          "base_uri": "https://localhost:8080/"
        },
        "id": "cLLmf02T-3YC",
        "outputId": "3eca6acf-14ce-4e0b-948c-81f42a754827"
      },
      "execution_count": null,
      "outputs": [
        {
          "output_type": "stream",
          "name": "stdout",
          "text": [
            "변수의 중요도:\n",
            " [0.         0.         0.         0.         0.09379061 0.\n",
            " 0.         0.         0.         0.         0.         0.\n",
            " 0.         0.05709387 0.         0.         0.         0.\n",
            " 0.         0.         0.80586005 0.04325547 0.         0.\n",
            " 0.         0.         0.        ]\n"
          ]
        }
      ]
    },
    {
      "cell_type": "markdown",
      "source": [
        "한글 깨짐 방지"
      ],
      "metadata": {
        "id": "gYcytRKwAw7F"
      }
    },
    {
      "cell_type": "code",
      "source": [
        "import matplotlib.font_manager as fm\n",
        "\n",
        "!apt-get -qq -y install fonts-nanum > /dev/null\n",
        "fontpath = '/usr/share/fonts/truetype/nanum/NanumBarunGothic.ttf'\n",
        "font = fm.FontProperties(fname=fontpath, size=9)\n",
        "fm._rebuild()"
      ],
      "metadata": {
        "id": "ESypri3qEj_F"
      },
      "execution_count": null,
      "outputs": []
    },
    {
      "cell_type": "code",
      "source": [
        "import os\n",
        "os.kill(os.getpid(), 9)"
      ],
      "metadata": {
        "id": "S8GOuSWEEmjC"
      },
      "execution_count": null,
      "outputs": []
    },
    {
      "cell_type": "code",
      "source": [
        "import matplotlib.pyplot as plt\n",
        "import matplotlib as mpl\n",
        "import matplotlib.font_manager as fm\n",
        "\n",
        "# 마이너스 표시 문제\n",
        "mpl.rcParams['axes.unicode_minus'] = False\n",
        "\t\n",
        "# 한글 폰트 설정\n",
        "path = '/usr/share/fonts/truetype/nanum/NanumGothicBold.ttf'\n",
        "font_name = fm.FontProperties(fname=path, size=18).get_name()\n",
        "plt.rc('font', family=font_name)\n",
        "fm._rebuild()"
      ],
      "metadata": {
        "id": "wjolU-1oEtki"
      },
      "execution_count": null,
      "outputs": []
    },
    {
      "cell_type": "markdown",
      "source": [
        "주요변수 그래프"
      ],
      "metadata": {
        "id": "wCnykOZkExEq"
      }
    },
    {
      "cell_type": "code",
      "source": [
        "import numpy as np\n",
        "\n",
        "def plot_feature_importances_hl(model):\n",
        "    plt.rcParams[\"figure.figsize\"] = (9,6)\n",
        "    n_features = len(hl.columns[1:])\n",
        "    plt.barh(np.arange(n_features), model.feature_importances_, align='center') \n",
        "    plt.yticks(np.arange(n_features), hl.columns[1:])\n",
        "    plt.xlabel(\"feature importance\")\n",
        "    plt.ylabel(\"feature\")\n",
        "    plt.ylim(-1, n_features)\n",
        "plot_feature_importances_hl(tree)"
      ],
      "metadata": {
        "colab": {
          "base_uri": "https://localhost:8080/",
          "height": 386
        },
        "id": "qSwd5spq_DEp",
        "outputId": "4c1362eb-ccd3-496c-f9de-51b4ad187224"
      },
      "execution_count": null,
      "outputs": [
        {
          "output_type": "display_data",
          "data": {
            "text/plain": [
              "<Figure size 648x432 with 1 Axes>"
            ],
            "image/png": "[encoded data removed]"
          },
          "metadata": {
            "needs_background": "light"
          }
        }
      ]
    },
    {
      "cell_type": "markdown",
      "source": [
        "## 2.랜덤 포레스트"
      ],
      "metadata": {
        "id": "KzbdF0bPxIUH"
      }
    },
    {
      "cell_type": "code",
      "source": [
        "# 변수를 모두 이용하여 100개의 나무 생성 (정확도가 높아짐)\n",
        "from sklearn.ensemble import RandomForestClassifier\n",
        "\n",
        "forest = RandomForestClassifier(n_estimators=100, random_state=0)\n",
        "forest.fit(X_train, y_train)\n",
        "\n",
        "print(\"학습용 데이터 세트 정확도: {:.3f}\".format(forest.score(X_train, y_train)))\n",
        "print(\"시험용 데이터 세트 정확도: {:.3f}\".format(forest.score(X_test, y_test)))"
      ],
      "metadata": {
        "colab": {
          "base_uri": "https://localhost:8080/"
        },
        "id": "VUgqP50oxGx6",
        "outputId": "ffca60cd-6d5b-42a5-fe82-98f48b945995"
      },
      "execution_count": null,
      "outputs": [
        {
          "output_type": "stream",
          "name": "stdout",
          "text": [
            "학습용 데이터 세트 정확도: 1.000\n",
            "시험용 데이터 세트 정확도: 0.939\n"
          ]
        }
      ]
    },
    {
      "cell_type": "markdown",
      "source": [
        "랜덤 포레스트와 단일 의사결정나무 비교 \n",
        "- 라인 차트를 그려봄으로써 랜덤포레스트가 의사결정트리보다 대체로 정확도가 높은 것을 확인할 수 있다."
      ],
      "metadata": {
        "id": "DbyFSrkRykK7"
      }
    },
    {
      "cell_type": "code",
      "source": [
        "from sklearn.model_selection import cross_val_score\n",
        "\n",
        "# 교차 검증을 10번 수행하여 10번의 교차 검증 평균 정확도를 비교 (10-fold cross validation)\n",
        "# default cv=5\n",
        "\n",
        "dt_scores = cross_val_score(tree, X_train, y_train, cv=10, scoring='accuracy')  \n",
        "rf_scores = cross_val_score(forest, X_train, y_train, cv=10, scoring='accuracy')\n",
        "\n",
        "print(\"Accuracy\")\n",
        "print(\"Decision tree: \", dt_scores) \n",
        "print(\"Random forest: \", rf_scores) \n",
        "\n",
        "print(\"Accuracy mean\")\n",
        "print(\"Decision tree :{:.3f}\".format(dt_scores.mean())) \n",
        "print(\"Random forest :{:.3f}\".format(rf_scores.mean())) "
      ],
      "metadata": {
        "colab": {
          "base_uri": "https://localhost:8080/"
        },
        "id": "VjWTFSbayoI-",
        "outputId": "5ce7c94b-ac05-436a-9380-d564a74e45ff"
      },
      "execution_count": null,
      "outputs": [
        {
          "output_type": "stream",
          "name": "stdout",
          "text": [
            "Accuracy\n",
            "Decision tree:  [0.88297872 0.81914894 0.90425532 0.92553191 0.90425532 0.90425532\n",
            " 0.88172043 0.93548387 0.90322581 0.91397849]\n",
            "Random forest:  [0.92553191 0.95744681 0.93617021 0.95744681 0.94680851 0.94680851\n",
            " 0.93548387 0.97849462 0.93548387 0.94623656]\n",
            "Accuracy mean\n",
            "Decision tree :0.897\n",
            "Random forest :0.947\n"
          ]
        }
      ]
    },
    {
      "cell_type": "code",
      "source": [
        "cv_list = [    \n",
        "            ['decision_tree',dt_scores],\n",
        "            ['random_forest',rf_scores],\n",
        "          ]\n",
        "df = pd.DataFrame.from_dict(dict(cv_list))\n",
        "df.plot()"
      ],
      "metadata": {
        "colab": {
          "base_uri": "https://localhost:8080/",
          "height": 392
        },
        "id": "ZOEs5R9h0QSL",
        "outputId": "5c4ea076-1acc-49f3-e6f6-acaa458f0892"
      },
      "execution_count": null,
      "outputs": [
        {
          "output_type": "execute_result",
          "data": {
            "text/plain": [
              "<matplotlib.axes._subplots.AxesSubplot at 0x7f51bc8ff310>"
            ]
          },
          "metadata": {},
          "execution_count": 214
        },
        {
          "output_type": "display_data",
          "data": {
            "text/plain": [
              "<Figure size 648x432 with 1 Axes>"
            ],
            "image/png": "[encoded data removed]"
          },
          "metadata": {
            "needs_background": "light"
          }
        }
      ]
    },
    {
      "cell_type": "markdown",
      "source": [
        "## 3. 그래디언트 부스팅"
      ],
      "metadata": {
        "id": "0IgkSkYG0os5"
      }
    },
    {
      "cell_type": "code",
      "source": [
        "from sklearn.ensemble import GradientBoostingClassifier\n",
        "# 기본값은 max_depth= 3, n_estimators=100, learning_rate = 0.1\n",
        "\n",
        "gbrt = GradientBoostingClassifier(random_state=0)\n",
        "gbrt.fit(X_train, y_train)"
      ],
      "metadata": {
        "colab": {
          "base_uri": "https://localhost:8080/"
        },
        "id": "Dz79cL_C0nlg",
        "outputId": "b11336a6-053d-4ff5-f40c-ab9a3d35fd37"
      },
      "execution_count": null,
      "outputs": [
        {
          "output_type": "execute_result",
          "data": {
            "text/plain": [
              "GradientBoostingClassifier(random_state=0)"
            ]
          },
          "metadata": {},
          "execution_count": 45
        }
      ]
    },
    {
      "cell_type": "code",
      "source": [
        "print(\"학습용 데이터 세트 정확도: {:.3f}\".format(gbrt.score(X_train, y_train)))\n",
        "print(\"시험용 데이터 세트 정확도: {:.3f}\".format(gbrt.score(X_test, y_test)))"
      ],
      "metadata": {
        "colab": {
          "base_uri": "https://localhost:8080/"
        },
        "id": "yVKZhtvF0wfe",
        "outputId": "2b456c7e-deab-41e9-d5bd-a152fe33c5c7"
      },
      "execution_count": null,
      "outputs": [
        {
          "output_type": "stream",
          "name": "stdout",
          "text": [
            "학습용 데이터 세트 정확도: 0.995\n",
            "시험용 데이터 세트 정확도: 0.930\n"
          ]
        }
      ]
    },
    {
      "cell_type": "code",
      "source": [
        "#나무 깊이 제한\n",
        "gbrt = GradientBoostingClassifier(random_state=0, max_depth=2)\n",
        "gbrt.fit(X_train, y_train)\n",
        "\n",
        "print(\"학습 데이터 세트 정확도: {:.3f}\".format(gbrt.score(X_train, y_train)))\n",
        "print(\"시험용 데이터 세트 정확도: {:.3f}\".format(gbrt.score(X_test, y_test)))"
      ],
      "metadata": {
        "colab": {
          "base_uri": "https://localhost:8080/"
        },
        "id": "SiZcEtjJ03Dd",
        "outputId": "3ead95a3-fec5-4921-dbe0-890cf8adf54a"
      },
      "execution_count": null,
      "outputs": [
        {
          "output_type": "stream",
          "name": "stdout",
          "text": [
            "학습 데이터 세트 정확도: 0.976\n",
            "시험용 데이터 세트 정확도: 0.933\n"
          ]
        }
      ]
    },
    {
      "cell_type": "markdown",
      "source": [
        "# 분류모델 평가"
      ],
      "metadata": {
        "id": "fvx6EpeV1XZr"
      }
    },
    {
      "cell_type": "markdown",
      "source": [
        "## 1.교차검증"
      ],
      "metadata": {
        "id": "v8sY3_bxHp2b"
      }
    },
    {
      "cell_type": "code",
      "source": [
        "# 교차 검증을 10번 수행하여 10번의 교차 검증 평균 정확도를 비교 (10-fold cross validation)\n",
        "# default cv=5\n",
        "\n",
        "dt_scores = cross_val_score(tree, X_train, y_train, cv=10, scoring='accuracy')  \n",
        "rf_scores = cross_val_score(forest, X_train, y_train, cv=10, scoring='accuracy')\n",
        "gbrt_scores = cross_val_score(gbrt, X_train, y_train, cv=10, scoring='accuracy')\n",
        "\n",
        "print(\"Accuracy\")\n",
        "print(\"Decision tree: \", dt_scores) \n",
        "print(\"Random forest: \", rf_scores) \n",
        "print(\"Gradient boosting: \", gbrt_scores) \n",
        "\n",
        "print(\"Accuracy mean\")\n",
        "print(\"Decision tree :{:.3f}\".format(dt_scores.mean())) \n",
        "print(\"Random forest :{:.3f}\".format(rf_scores.mean())) \n",
        "print(\"Gradient boosting :{:.3f}\".format(gbrt_scores.mean())) "
      ],
      "metadata": {
        "colab": {
          "base_uri": "https://localhost:8080/"
        },
        "id": "W5xHajcP1WbV",
        "outputId": "201ba8a9-57ca-4b55-f864-6dd4db7fc7c9"
      },
      "execution_count": null,
      "outputs": [
        {
          "output_type": "stream",
          "name": "stdout",
          "text": [
            "Accuracy\n",
            "Decision tree:  [0.88297872 0.81914894 0.90425532 0.92553191 0.90425532 0.90425532\n",
            " 0.88172043 0.93548387 0.90322581 0.91397849]\n",
            "Random forest:  [0.92553191 0.95744681 0.93617021 0.95744681 0.94680851 0.94680851\n",
            " 0.93548387 0.97849462 0.93548387 0.94623656]\n",
            "Gradient boosting:  [0.93617021 0.96808511 0.92553191 0.95744681 0.93617021 0.94680851\n",
            " 0.92473118 1.         0.92473118 0.95698925]\n",
            "Accuracy mean\n",
            "Decision tree :0.897\n",
            "Random forest :0.947\n",
            "Gradient boosting :0.948\n"
          ]
        }
      ]
    },
    {
      "cell_type": "markdown",
      "source": [
        "## 2.그리드서치"
      ],
      "metadata": {
        "id": "G7t26Y4J1wqr"
      }
    },
    {
      "cell_type": "code",
      "source": [
        "from sklearn.model_selection import GridSearchCV\n",
        "\n",
        "# 파라미터를 dictionary 형태로 설정\n",
        "parameters = {'max_depth':[1,2,3,4], 'learning_rate':[0.1,0.08, 0.06, 0.04, 0.02]}"
      ],
      "metadata": {
        "id": "yxZWdcCW10bJ"
      },
      "execution_count": null,
      "outputs": []
    },
    {
      "cell_type": "code",
      "source": [
        "# param_grid의 파라미터들을 3개의 fold 로 나누어 검증\n",
        "# refit=True (기본값): 가장 좋은 파라미터 설정으로 재학습  \n",
        "init_gbrt = GradientBoostingClassifier(random_state=0)\n",
        "grid_gbrt = GridSearchCV(init_gbrt, param_grid=parameters, cv=3, refit=True)\n",
        "print(grid_gbrt)\n",
        "# 파라미터들을 순차적으로 학습, 검증\n",
        "grid_gbrt.fit(X_train, y_train)\n",
        "\n",
        "# GridSearchCV 결과 추출하여 DataFrame으로 변환\n",
        "scores_df = pd.DataFrame(grid_gbrt.cv_results_)\n",
        "scores_df[['params', 'mean_test_score', 'rank_test_score', 'split0_test_score', 'split1_test_score', 'split2_test_score']]"
      ],
      "metadata": {
        "colab": {
          "base_uri": "https://localhost:8080/",
          "height": 1000
        },
        "id": "8zjeqw3S1_p6",
        "outputId": "4a1e0d49-c4bc-44fc-8ca2-73d4e146ec03"
      },
      "execution_count": null,
      "outputs": [
        {
          "output_type": "stream",
          "name": "stdout",
          "text": [
            "GridSearchCV(cv=3, estimator=GradientBoostingClassifier(random_state=0),\n",
            "             param_grid={'learning_rate': [0.1, 0.08, 0.06, 0.04, 0.02],\n",
            "                         'max_depth': [1, 2, 3, 4]})\n"
          ]
        },
        {
          "output_type": "execute_result",
          "data": {
            "text/plain": [
              "                                     params  mean_test_score  rank_test_score  \\\n",
              "0    {'learning_rate': 0.1, 'max_depth': 1}         0.940171               10   \n",
              "1    {'learning_rate': 0.1, 'max_depth': 2}         0.940171               10   \n",
              "2    {'learning_rate': 0.1, 'max_depth': 3}         0.939103               13   \n",
              "3    {'learning_rate': 0.1, 'max_depth': 4}         0.931624               17   \n",
              "4   {'learning_rate': 0.08, 'max_depth': 1}         0.942308                7   \n",
              "5   {'learning_rate': 0.08, 'max_depth': 2}         0.942308                7   \n",
              "6   {'learning_rate': 0.08, 'max_depth': 3}         0.942308                7   \n",
              "7   {'learning_rate': 0.08, 'max_depth': 4}         0.931624               17   \n",
              "8   {'learning_rate': 0.06, 'max_depth': 1}         0.943376                4   \n",
              "9   {'learning_rate': 0.06, 'max_depth': 2}         0.944444                1   \n",
              "10  {'learning_rate': 0.06, 'max_depth': 3}         0.940171               10   \n",
              "11  {'learning_rate': 0.06, 'max_depth': 4}         0.930556               19   \n",
              "12  {'learning_rate': 0.04, 'max_depth': 1}         0.944444                1   \n",
              "13  {'learning_rate': 0.04, 'max_depth': 2}         0.944444                1   \n",
              "14  {'learning_rate': 0.04, 'max_depth': 3}         0.936966               15   \n",
              "15  {'learning_rate': 0.04, 'max_depth': 4}         0.929487               20   \n",
              "16  {'learning_rate': 0.02, 'max_depth': 1}         0.943376                4   \n",
              "17  {'learning_rate': 0.02, 'max_depth': 2}         0.943376                4   \n",
              "18  {'learning_rate': 0.02, 'max_depth': 3}         0.939103               13   \n",
              "19  {'learning_rate': 0.02, 'max_depth': 4}         0.933761               16   \n",
              "\n",
              "    split0_test_score  split1_test_score  split2_test_score  \n",
              "0            0.935897           0.935897           0.948718  \n",
              "1            0.926282           0.945513           0.948718  \n",
              "2            0.932692           0.942308           0.942308  \n",
              "3            0.929487           0.932692           0.932692  \n",
              "4            0.935897           0.939103           0.951923  \n",
              "5            0.929487           0.948718           0.948718  \n",
              "6            0.939103           0.945513           0.942308  \n",
              "7            0.929487           0.935897           0.929487  \n",
              "8            0.935897           0.945513           0.948718  \n",
              "9            0.935897           0.951923           0.945513  \n",
              "10           0.939103           0.935897           0.945513  \n",
              "11           0.929487           0.932692           0.929487  \n",
              "12           0.932692           0.948718           0.951923  \n",
              "13           0.935897           0.948718           0.948718  \n",
              "14           0.935897           0.935897           0.939103  \n",
              "15           0.932692           0.929487           0.926282  \n",
              "16           0.935897           0.945513           0.948718  \n",
              "17           0.939103           0.945513           0.945513  \n",
              "18           0.929487           0.945513           0.942308  \n",
              "19           0.935897           0.932692           0.932692  "
            ],
            "text/html": [
              "\n",
              "  <div id=\"df-b398846c-027e-49e4-98d5-1c32d035fb4b\">\n",
              "    <div class=\"colab-df-container\">\n",
              "      <div>\n",
              "<style scoped>\n",
              "    .dataframe tbody tr th:only-of-type {\n",
              "        vertical-align: middle;\n",
              "    }\n",
              "\n",
              "    .dataframe tbody tr th {\n",
              "        vertical-align: top;\n",
              "    }\n",
              "\n",
              "    .dataframe thead th {\n",
              "        text-align: right;\n",
              "    }\n",
              "</style>\n",
              "<table border=\"1\" class=\"dataframe\">\n",
              "  <thead>\n",
              "    <tr style=\"text-align: right;\">\n",
              "      <th></th>\n",
              "      <th>params</th>\n",
              "      <th>mean_test_score</th>\n",
              "      <th>rank_test_score</th>\n",
              "      <th>split0_test_score</th>\n",
              "      <th>split1_test_score</th>\n",
              "      <th>split2_test_score</th>\n",
              "    </tr>\n",
              "  </thead>\n",
              "  <tbody>\n",
              "    <tr>\n",
              "      <th>0</th>\n",
              "      <td>{'learning_rate': 0.1, 'max_depth': 1}</td>\n",
              "      <td>0.940171</td>\n",
              "      <td>10</td>\n",
              "      <td>0.935897</td>\n",
              "      <td>0.935897</td>\n",
              "      <td>0.948718</td>\n",
              "    </tr>\n",
              "    <tr>\n",
              "      <th>1</th>\n",
              "      <td>{'learning_rate': 0.1, 'max_depth': 2}</td>\n",
              "      <td>0.940171</td>\n",
              "      <td>10</td>\n",
              "      <td>0.926282</td>\n",
              "      <td>0.945513</td>\n",
              "      <td>0.948718</td>\n",
              "    </tr>\n",
              "    <tr>\n",
              "      <th>2</th>\n",
              "      <td>{'learning_rate': 0.1, 'max_depth': 3}</td>\n",
              "      <td>0.939103</td>\n",
              "      <td>13</td>\n",
              "      <td>0.932692</td>\n",
              "      <td>0.942308</td>\n",
              "      <td>0.942308</td>\n",
              "    </tr>\n",
              "    <tr>\n",
              "      <th>3</th>\n",
              "      <td>{'learning_rate': 0.1, 'max_depth': 4}</td>\n",
              "      <td>0.931624</td>\n",
              "      <td>17</td>\n",
              "      <td>0.929487</td>\n",
              "      <td>0.932692</td>\n",
              "      <td>0.932692</td>\n",
              "    </tr>\n",
              "    <tr>\n",
              "      <th>4</th>\n",
              "      <td>{'learning_rate': 0.08, 'max_depth': 1}</td>\n",
              "      <td>0.942308</td>\n",
              "      <td>7</td>\n",
              "      <td>0.935897</td>\n",
              "      <td>0.939103</td>\n",
              "      <td>0.951923</td>\n",
              "    </tr>\n",
              "    <tr>\n",
              "      <th>5</th>\n",
              "      <td>{'learning_rate': 0.08, 'max_depth': 2}</td>\n",
              "      <td>0.942308</td>\n",
              "      <td>7</td>\n",
              "      <td>0.929487</td>\n",
              "      <td>0.948718</td>\n",
              "      <td>0.948718</td>\n",
              "    </tr>\n",
              "    <tr>\n",
              "      <th>6</th>\n",
              "      <td>{'learning_rate': 0.08, 'max_depth': 3}</td>\n",
              "      <td>0.942308</td>\n",
              "      <td>7</td>\n",
              "      <td>0.939103</td>\n",
              "      <td>0.945513</td>\n",
              "      <td>0.942308</td>\n",
              "    </tr>\n",
              "    <tr>\n",
              "      <th>7</th>\n",
              "      <td>{'learning_rate': 0.08, 'max_depth': 4}</td>\n",
              "      <td>0.931624</td>\n",
              "      <td>17</td>\n",
              "      <td>0.929487</td>\n",
              "      <td>0.935897</td>\n",
              "      <td>0.929487</td>\n",
              "    </tr>\n",
              "    <tr>\n",
              "      <th>8</th>\n",
              "      <td>{'learning_rate': 0.06, 'max_depth': 1}</td>\n",
              "      <td>0.943376</td>\n",
              "      <td>4</td>\n",
              "      <td>0.935897</td>\n",
              "      <td>0.945513</td>\n",
              "      <td>0.948718</td>\n",
              "    </tr>\n",
              "    <tr>\n",
              "      <th>9</th>\n",
              "      <td>{'learning_rate': 0.06, 'max_depth': 2}</td>\n",
              "      <td>0.944444</td>\n",
              "      <td>1</td>\n",
              "      <td>0.935897</td>\n",
              "      <td>0.951923</td>\n",
              "      <td>0.945513</td>\n",
              "    </tr>\n",
              "    <tr>\n",
              "      <th>10</th>\n",
              "      <td>{'learning_rate': 0.06, 'max_depth': 3}</td>\n",
              "      <td>0.940171</td>\n",
              "      <td>10</td>\n",
              "      <td>0.939103</td>\n",
              "      <td>0.935897</td>\n",
              "      <td>0.945513</td>\n",
              "    </tr>\n",
              "    <tr>\n",
              "      <th>11</th>\n",
              "      <td>{'learning_rate': 0.06, 'max_depth': 4}</td>\n",
              "      <td>0.930556</td>\n",
              "      <td>19</td>\n",
              "      <td>0.929487</td>\n",
              "      <td>0.932692</td>\n",
              "      <td>0.929487</td>\n",
              "    </tr>\n",
              "    <tr>\n",
              "      <th>12</th>\n",
              "      <td>{'learning_rate': 0.04, 'max_depth': 1}</td>\n",
              "      <td>0.944444</td>\n",
              "      <td>1</td>\n",
              "      <td>0.932692</td>\n",
              "      <td>0.948718</td>\n",
              "      <td>0.951923</td>\n",
              "    </tr>\n",
              "    <tr>\n",
              "      <th>13</th>\n",
              "      <td>{'learning_rate': 0.04, 'max_depth': 2}</td>\n",
              "      <td>0.944444</td>\n",
              "      <td>1</td>\n",
              "      <td>0.935897</td>\n",
              "      <td>0.948718</td>\n",
              "      <td>0.948718</td>\n",
              "    </tr>\n",
              "    <tr>\n",
              "      <th>14</th>\n",
              "      <td>{'learning_rate': 0.04, 'max_depth': 3}</td>\n",
              "      <td>0.936966</td>\n",
              "      <td>15</td>\n",
              "      <td>0.935897</td>\n",
              "      <td>0.935897</td>\n",
              "      <td>0.939103</td>\n",
              "    </tr>\n",
              "    <tr>\n",
              "      <th>15</th>\n",
              "      <td>{'learning_rate': 0.04, 'max_depth': 4}</td>\n",
              "      <td>0.929487</td>\n",
              "      <td>20</td>\n",
              "      <td>0.932692</td>\n",
              "      <td>0.929487</td>\n",
              "      <td>0.926282</td>\n",
              "    </tr>\n",
              "    <tr>\n",
              "      <th>16</th>\n",
              "      <td>{'learning_rate': 0.02, 'max_depth': 1}</td>\n",
              "      <td>0.943376</td>\n",
              "      <td>4</td>\n",
              "      <td>0.935897</td>\n",
              "      <td>0.945513</td>\n",
              "      <td>0.948718</td>\n",
              "    </tr>\n",
              "    <tr>\n",
              "      <th>17</th>\n",
              "      <td>{'learning_rate': 0.02, 'max_depth': 2}</td>\n",
              "      <td>0.943376</td>\n",
              "      <td>4</td>\n",
              "      <td>0.939103</td>\n",
              "      <td>0.945513</td>\n",
              "      <td>0.945513</td>\n",
              "    </tr>\n",
              "    <tr>\n",
              "      <th>18</th>\n",
              "      <td>{'learning_rate': 0.02, 'max_depth': 3}</td>\n",
              "      <td>0.939103</td>\n",
              "      <td>13</td>\n",
              "      <td>0.929487</td>\n",
              "      <td>0.945513</td>\n",
              "      <td>0.942308</td>\n",
              "    </tr>\n",
              "    <tr>\n",
              "      <th>19</th>\n",
              "      <td>{'learning_rate': 0.02, 'max_depth': 4}</td>\n",
              "      <td>0.933761</td>\n",
              "      <td>16</td>\n",
              "      <td>0.935897</td>\n",
              "      <td>0.932692</td>\n",
              "      <td>0.932692</td>\n",
              "    </tr>\n",
              "  </tbody>\n",
              "</table>\n",
              "</div>\n",
              "      <button class=\"colab-df-convert\" onclick=\"convertToInteractive('df-b398846c-027e-49e4-98d5-1c32d035fb4b')\"\n",
              "              title=\"Convert this dataframe to an interactive table.\"\n",
              "              style=\"display:none;\">\n",
              "        \n",
              "  <svg xmlns=\"http://www.w3.org/2000/svg\" height=\"24px\"viewBox=\"0 0 24 24\"\n",
              "       width=\"24px\">\n",
              "    <path d=\"M0 0h24v24H0V0z\" fill=\"none\"/>\n",
              "    <path d=\"M18.56 5.44l.94 2.06.94-2.06 2.06-.94-2.06-.94-.94-2.06-.94 2.06-2.06.94zm-11 1L8.5 8.5l.94-2.06 2.06-.94-2.06-.94L8.5 2.5l-.94 2.06-2.06.94zm10 10l.94 2.06.94-2.06 2.06-.94-2.06-.94-.94-2.06-.94 2.06-2.06.94z\"/><path d=\"M17.41 7.96l-1.37-1.37c-.4-.4-.92-.59-1.43-.59-.52 0-1.04.2-1.43.59L10.3 9.45l-7.72 7.72c-.78.78-.78 2.05 0 2.83L4 21.41c.39.39.9.59 1.41.59.51 0 1.02-.2 1.41-.59l7.78-7.78 2.81-2.81c.8-.78.8-2.07 0-2.86zM5.41 20L4 18.59l7.72-7.72 1.47 1.35L5.41 20z\"/>\n",
              "  </svg>\n",
              "      </button>\n",
              "      \n",
              "  <style>\n",
              "    .colab-df-container {\n",
              "      display:flex;\n",
              "      flex-wrap:wrap;\n",
              "      gap: 12px;\n",
              "    }\n",
              "\n",
              "    .colab-df-convert {\n",
              "      background-color: #E8F0FE;\n",
              "      border: none;\n",
              "      border-radius: 50%;\n",
              "      cursor: pointer;\n",
              "      display: none;\n",
              "      fill: #1967D2;\n",
              "      height: 32px;\n",
              "      padding: 0 0 0 0;\n",
              "      width: 32px;\n",
              "    }\n",
              "\n",
              "    .colab-df-convert:hover {\n",
              "      background-color: #E2EBFA;\n",
              "      box-shadow: 0px 1px 2px rgba(60, 64, 67, 0.3), 0px 1px 3px 1px rgba(60, 64, 67, 0.15);\n",
              "      fill: #174EA6;\n",
              "    }\n",
              "\n",
              "    [theme=dark] .colab-df-convert {\n",
              "      background-color: #3B4455;\n",
              "      fill: #D2E3FC;\n",
              "    }\n",
              "\n",
              "    [theme=dark] .colab-df-convert:hover {\n",
              "      background-color: #434B5C;\n",
              "      box-shadow: 0px 1px 3px 1px rgba(0, 0, 0, 0.15);\n",
              "      filter: drop-shadow(0px 1px 2px rgba(0, 0, 0, 0.3));\n",
              "      fill: #FFFFFF;\n",
              "    }\n",
              "  </style>\n",
              "\n",
              "      <script>\n",
              "        const buttonEl =\n",
              "          document.querySelector('#df-b398846c-027e-49e4-98d5-1c32d035fb4b button.colab-df-convert');\n",
              "        buttonEl.style.display =\n",
              "          google.colab.kernel.accessAllowed ? 'block' : 'none';\n",
              "\n",
              "        async function convertToInteractive(key) {\n",
              "          const element = document.querySelector('#df-b398846c-027e-49e4-98d5-1c32d035fb4b');\n",
              "          const dataTable =\n",
              "            await google.colab.kernel.invokeFunction('convertToInteractive',\n",
              "                                                     [key], {});\n",
              "          if (!dataTable) return;\n",
              "\n",
              "          const docLinkHtml = 'Like what you see? Visit the ' +\n",
              "            '<a target=\"_blank\" href=https://colab.research.google.com/notebooks/data_table.ipynb>data table notebook</a>'\n",
              "            + ' to learn more about interactive tables.';\n",
              "          element.innerHTML = '';\n",
              "          dataTable['output_type'] = 'display_data';\n",
              "          await google.colab.output.renderOutput(dataTable, element);\n",
              "          const docLink = document.createElement('div');\n",
              "          docLink.innerHTML = docLinkHtml;\n",
              "          element.appendChild(docLink);\n",
              "        }\n",
              "      </script>\n",
              "    </div>\n",
              "  </div>\n",
              "  "
            ]
          },
          "metadata": {},
          "execution_count": 50
        }
      ]
    },
    {
      "cell_type": "code",
      "source": [
        "print('GridSearchCV 최적 파라미터:', grid_gbrt.best_params_)\n",
        "print('GridSearchCV 최고 정확도: {0:.4f}'.format(grid_gbrt.best_score_))"
      ],
      "metadata": {
        "colab": {
          "base_uri": "https://localhost:8080/"
        },
        "id": "NjSuI6_Y2LRu",
        "outputId": "4f07821c-bd1b-4b96-c696-d8289ac3ec76"
      },
      "execution_count": null,
      "outputs": [
        {
          "output_type": "stream",
          "name": "stdout",
          "text": [
            "GridSearchCV 최적 파라미터: {'learning_rate': 0.06, 'max_depth': 2}\n",
            "GridSearchCV 최고 정확도: 0.9444\n"
          ]
        }
      ]
    },
    {
      "cell_type": "code",
      "source": [
        "# 최적 파라미터로 학습이 된 모델을 이용하여 시험용 데이터 세트 분류\n",
        "print(\"시험용 데이터 세트 정확도: {:.3f}\".format(grid_gbrt.score(X_test, y_test)))"
      ],
      "metadata": {
        "colab": {
          "base_uri": "https://localhost:8080/"
        },
        "id": "qmQu0j6E2Q8Y",
        "outputId": "acf831f9-fd03-4b42-a0f7-3e3ae772c5fd"
      },
      "execution_count": null,
      "outputs": [
        {
          "output_type": "stream",
          "name": "stdout",
          "text": [
            "시험용 데이터 세트 정확도: 0.933\n"
          ]
        }
      ]
    },
    {
      "cell_type": "markdown",
      "source": [
        "# 결론"
      ],
      "metadata": {
        "id": "uFeJ3UE8H_qg"
      }
    },
    {
      "cell_type": "markdown",
      "source": [
        "중요변수를 살펴보면 ALT, 체중, 총콜레스테롤,감마지티피 순으로 변수의 중요도가 높게 나타난다.\n",
        "\n",
        "여기서 ALT와 감마지티피는 간과 관련되며 체중과 총콜레스테롤은 비만과 관련된다. 따라서 output 변수인 AST(간세포 손상정도)는 간의 기능을 아우를 뿐만 아니라, 비만율과도 밀접한 관련을 맺는다고 볼 수 있다.\n",
        "\n",
        " 또한 교차검증을 통한 분류모델 평가 결과 Decision tree :0.897\n",
        "랜덤포레스트 :0.947\n",
        "그래디언트부스팅 :0.948로 그래디언트 부스팅 모델의 정확도가 가장 높게 나타났기 때문에 해당 모델을 사용하는 것이 적합하다.\n",
        "\n",
        "그리드서치를 통해 최적의 파라미터를 살펴본 결과, 'learning_rate': 0.06, max_depth': 2로 선택하는 것이 가장 적합했으며 이 때의 정확률은 시험용 데이터 기준으로 0.933까지 높일 수 있었다."
      ],
      "metadata": {
        "id": "UL8SCIHLIBhY"
      }
    }
  ]
}